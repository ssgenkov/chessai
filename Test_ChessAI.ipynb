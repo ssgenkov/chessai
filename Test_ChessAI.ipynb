{
 "cells": [
  {
   "cell_type": "code",
   "execution_count": 1,
   "id": "f6ed00a0",
   "metadata": {},
   "outputs": [],
   "source": [
    "from chessai.figures.figure_type import FigureType\n",
    "from chessai.figures.factory import get_figure\n",
    "from chessai.utils.color import Color\n",
    "from chessai.engine.state_evaluator import StateEvaluator\n",
    "from chessai.engine.state import State\n",
    "from chessai.engine.game import Game\n",
    "from chessai.engine.heuristic_alpha_beta_tree_search import HeuristicAlphaBetaSearch\n",
    "from chessai.utils.castle_figures import CastleFigureType"
   ]
  },
  {
   "cell_type": "code",
   "execution_count": null,
   "id": "980b9b2c",
   "metadata": {},
   "outputs": [],
   "source": [
    "board = dict()\n",
    "\n",
    "board[(1, 5)] = get_figure(Color.WHITE, FigureType.KING)\n",
    "board[(1, 4)] = get_figure(Color.WHITE, FigureType.QUEEN)\n",
    "board[(1, 1)] = get_figure(Color.WHITE, FigureType.ROOK)\n",
    "board[(1, 8)] = get_figure(Color.WHITE, FigureType.ROOK)\n",
    "board[(1, 2)] = get_figure(Color.WHITE, FigureType.KNIGHT)\n",
    "board[(1, 7)] = get_figure(Color.WHITE, FigureType.KNIGHT)\n",
    "board[(1, 3)] = get_figure(Color.WHITE, FigureType.BISHOP)\n",
    "board[(1, 6)] = get_figure(Color.WHITE, FigureType.BISHOP)\n",
    "board[(2, 1)] = get_figure(Color.WHITE, FigureType.PAWN)\n",
    "board[(2, 2)] = get_figure(Color.WHITE, FigureType.PAWN)\n",
    "board[(2, 3)] = get_figure(Color.WHITE, FigureType.PAWN)\n",
    "board[(2, 4)] = get_figure(Color.WHITE, FigureType.PAWN)\n",
    "board[(2, 5)] = get_figure(Color.WHITE, FigureType.PAWN)\n",
    "board[(2, 6)] = get_figure(Color.WHITE, FigureType.PAWN)\n",
    "board[(2, 7)] = get_figure(Color.WHITE, FigureType.PAWN)\n",
    "board[(2, 8)] = get_figure(Color.WHITE, FigureType.PAWN)\n",
    "\n",
    "board[(8, 5)] = get_figure(Color.BLACK, FigureType.KING)\n",
    "board[(8, 4)] = get_figure(Color.BLACK, FigureType.QUEEN)\n",
    "board[(8, 1)] = get_figure(Color.BLACK, FigureType.ROOK)\n",
    "board[(8, 8)] = get_figure(Color.BLACK, FigureType.ROOK)\n",
    "board[(8, 2)] = get_figure(Color.BLACK, FigureType.KNIGHT)\n",
    "board[(8, 7)] = get_figure(Color.BLACK, FigureType.KNIGHT)\n",
    "board[(8, 3)] = get_figure(Color.BLACK, FigureType.BISHOP)\n",
    "board[(8, 6)] = get_figure(Color.BLACK, FigureType.BISHOP)\n",
    "board[(7, 1)] = get_figure(Color.BLACK, FigureType.PAWN)\n",
    "board[(7, 2)] = get_figure(Color.BLACK, FigureType.PAWN)\n",
    "board[(7, 3)] = get_figure(Color.BLACK, FigureType.PAWN)\n",
    "board[(7, 4)] = get_figure(Color.BLACK, FigureType.PAWN)\n",
    "board[(7, 5)] = get_figure(Color.BLACK, FigureType.PAWN)\n",
    "board[(7, 6)] = get_figure(Color.BLACK, FigureType.PAWN)\n",
    "board[(7, 7)] = get_figure(Color.BLACK, FigureType.PAWN)\n",
    "board[(7, 8)] = get_figure(Color.BLACK, FigureType.PAWN)\n",
    "\n",
    "has_moved = {}\n",
    "\n",
    "# has_moved_white = set(\n",
    "#             [\n",
    "#                 CastleFigureType.KING,\n",
    "#                 CastleFigureType.ROOK_KINGSIDE,\n",
    "#                 CastleFigureType.ROOK_QUEENSIDE,\n",
    "#             ]\n",
    "#         )\n",
    "# has_moved_black = set(\n",
    "#             [\n",
    "#                 CastleFigureType.KING,\n",
    "#                 CastleFigureType.ROOK_KINGSIDE,\n",
    "#                 CastleFigureType.ROOK_QUEENSIDE,\n",
    "#             ]\n",
    "#         )\n",
    "# has_moved = {Color.WHITE: has_moved_white, Color.BLACK: has_moved_black}\n",
    "state = State(\n",
    "    board, has_moved=has_moved\n",
    "        )\n",
    "\n",
    "game = Game()\n",
    "heuristic_AlphaBetaSearch = HeuristicAlphaBetaSearch(max_depth=5)\n",
    "heuristic_AlphaBetaSearch.alpha_beta_search(game, state)"
   ]
  },
  {
   "cell_type": "code",
   "execution_count": null,
   "id": "f067f086",
   "metadata": {},
   "outputs": [],
   "source": []
  }
 ],
 "metadata": {
  "kernelspec": {
   "display_name": "Python 3",
   "language": "python",
   "name": "python3"
  },
  "language_info": {
   "codemirror_mode": {
    "name": "ipython",
    "version": 3
   },
   "file_extension": ".py",
   "mimetype": "text/x-python",
   "name": "python",
   "nbconvert_exporter": "python",
   "pygments_lexer": "ipython3",
   "version": "3.8.10"
  }
 },
 "nbformat": 4,
 "nbformat_minor": 5
}
